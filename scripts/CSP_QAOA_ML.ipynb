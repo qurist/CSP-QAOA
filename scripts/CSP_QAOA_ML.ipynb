{
 "cells": [
  {
   "cell_type": "markdown",
   "metadata": {},
   "source": [
    "# Sandbox for machine learning on CSP instances and their optimized QAOA schedules\n",
    "## Author: Aniruddha Bapat\n",
    "### Date: 07/20/2018\n",
    "---\n",
    "## Import necessary modules"
   ]
  },
  {
   "cell_type": "code",
   "execution_count": 89,
   "metadata": {
    "collapsed": true
   },
   "outputs": [],
   "source": [
    "import pandas as pd\n",
    "from pandas.plotting import scatter_matrix\n",
    "import matplotlib.pyplot as plt\n",
    "from sklearn import model_selection\n",
    "from sklearn.linear_model import LogisticRegression \n",
    "from matplotlib import interactive\n",
    "from sklearn.tree import DecisionTreeClassifier\n",
    "from sklearn.neighbors import KNeighborsClassifier\n",
    "from sklearn.discriminant_analysis import LinearDiscriminantAnalysis\n",
    "from sklearn.naive_bayes import GaussianNB\n",
    "from sklearn.svm import SVC\n",
    "\n",
    "import numpy as np"
   ]
  },
  {
   "cell_type": "markdown",
   "metadata": {},
   "source": [
    "---\n",
    "## Dataset import"
   ]
  },
  {
   "cell_type": "code",
   "execution_count": 43,
   "metadata": {},
   "outputs": [],
   "source": [
    "set1 = pd.read_table('Random2Sat/instanceData_QAOA1.dat', delim_whitespace=1)\n",
    "set2 = pd.read_table('Random3Sat/instanceData_QAOA1.dat', delim_whitespace=1)"
   ]
  },
  {
   "cell_type": "code",
   "execution_count": 52,
   "metadata": {},
   "outputs": [],
   "source": [
    "full = pd.concat([set1, set2])"
   ]
  },
  {
   "cell_type": "markdown",
   "metadata": {},
   "source": [
    "---\n",
    "## Convert data sets to dictionaries (might come in handy later)\n",
    "Actually, might not need it after all..."
   ]
  },
  {
   "cell_type": "code",
   "execution_count": 55,
   "metadata": {},
   "outputs": [],
   "source": [
    "set1dict = set1.to_dict('list')\n",
    "set2dict = set2.to_dict('list')\n",
    "fulldict = full.to_dict('list')\n",
    "for i in fulldict.keys(): fulldict[i] = np.array(fulldict[i])"
   ]
  },
  {
   "cell_type": "markdown",
   "metadata": {},
   "source": [
    "---\n",
    "## Classifying datasets by their respective problem type\n",
    "We mixed two datasets corresponding to random max2Sat and max3Sat instances. Each dataset consists of 1000 instances spanning a range of variable numbers and clause numbers. Our first goal will be to study qualitative differences in their QAOA schedule, and to classify them into their respective problem classes. "
   ]
  },
  {
   "cell_type": "code",
   "execution_count": 117,
   "metadata": {},
   "outputs": [],
   "source": [
    "# Define new features\n",
    "full['NormStd']=full['IncidenceStd']/full['Nclauses']\n",
    "\n",
    "# Now, specify what are features and what are labels\n",
    "X = full[['Nvars','Cdensity','beta1', 'gamma1', 'Unsat']]\n",
    "y = full['Label']\n",
    "trainratio = 0.2\n",
    "seed=7\n",
    "X_train, X_test, y_train, y_test = model_selection.train_test_split(X, y, test_size=trainratio, random_state=seed)"
   ]
  },
  {
   "cell_type": "code",
   "execution_count": 118,
   "metadata": {},
   "outputs": [],
   "source": [
    "#scatter_matrix(full[['NormStd', 'Cdensity', 'Unsat', 'beta1', 'gamma1']]);"
   ]
  },
  {
   "cell_type": "code",
   "execution_count": 119,
   "metadata": {},
   "outputs": [
    {
     "name": "stdout",
     "output_type": "stream",
     "text": [
      "LR: 0.860625 (0.012516)\n",
      "LDA: 0.834375 (0.024085)\n",
      "KNN: 0.808750 (0.034821)\n",
      "CART: 0.811875 (0.037338)\n",
      "NB: 0.822500 (0.032740)\n",
      "SVM: 0.510625 (0.047108)\n"
     ]
    }
   ],
   "source": [
    "models = []\n",
    "models.append(('LR', LogisticRegression()))\n",
    "models.append(('LDA', LinearDiscriminantAnalysis()))\n",
    "models.append(('KNN', KNeighborsClassifier()))\n",
    "models.append(('CART', DecisionTreeClassifier()))\n",
    "models.append(('NB', GaussianNB()))\n",
    "models.append(('SVM', SVC()))\n",
    "# evaluate each model in turn\n",
    "results = []\n",
    "names = []\n",
    "scoring = 'accuracy'\n",
    "for name, model in models:\n",
    "    kfold = model_selection.KFold(n_splits=10, random_state=seed)\n",
    "    cv_results = model_selection.cross_val_score(model, X_train, y_train, cv=kfold, scoring=scoring)\n",
    "    results.append(cv_results)\n",
    "    names.append(name)\n",
    "    msg = \"%s: %f (%f)\" % (name, cv_results.mean(), cv_results.std())\n",
    "    print(msg)"
   ]
  },
  {
   "cell_type": "code",
   "execution_count": null,
   "metadata": {
    "collapsed": true
   },
   "outputs": [],
   "source": []
  }
 ],
 "metadata": {
  "kernelspec": {
   "display_name": "Python 2",
   "language": "python",
   "name": "python2"
  },
  "language_info": {
   "codemirror_mode": {
    "name": "ipython",
    "version": 2
   },
   "file_extension": ".py",
   "mimetype": "text/x-python",
   "name": "python",
   "nbconvert_exporter": "python",
   "pygments_lexer": "ipython2",
   "version": "2.7.15rc1"
  }
 },
 "nbformat": 4,
 "nbformat_minor": 2
}
