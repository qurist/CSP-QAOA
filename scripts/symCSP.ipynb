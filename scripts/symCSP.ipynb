{
 "cells": [
  {
   "cell_type": "code",
   "execution_count": 37,
   "metadata": {
    "collapsed": true
   },
   "outputs": [],
   "source": [
    "import numpy as np\n",
    "import numpy.random as nrm\n",
    "import random as rm\n",
    "from matplotlib.pyplot import *\n",
    "import time\n",
    "import itertools\n",
    "from scipy.linalg import expm\n",
    "from numpy import sqrt,pi,e,cos,sin,tan\n",
    "from scipy.optimize import minimize, basinhopping"
   ]
  },
  {
   "cell_type": "code",
   "execution_count": 44,
   "metadata": {
    "collapsed": true
   },
   "outputs": [],
   "source": [
    "## Write an SSMC algorithm\n",
    "def gate(n,i,X): # apply gate X on i-th qubit out of n qubits\n",
    "    return np.kron(np.identity(2**(i-1)),np.kron(X,np.identity(2**(n-i))))\n",
    "\n",
    "def CSPsim(H,u,dt,psi0): # Exact simulation of a H(u) on initial state psi0\n",
    "    psi = psi0\n",
    "    for i in range(len(u)):  # ASSUMPTION: u only takes bang-bang values: 0 or 1\n",
    "        psi = np.dot(expm(-1.j*H[u[i]]*dt),psi)\n",
    "    np.vdot(psi,np.dot(H1,psi))\n",
    "    return psi\n",
    "\n",
    "def energy(H,psi): return np.vdot(psi,np.dot(H,psi))\n",
    "\n",
    "def greedyK(H,dt,psi0,K,T):\n",
    "    bestpsi = [psi0]\n",
    "    bestu   = [[]] #all protocols will begin with -1\n",
    "    for i in range(T):\n",
    "        trialpsi=[]\n",
    "        trialu  =[]\n",
    "        for j in range(len(bestpsi)):\n",
    "            trialpsi.append(np.dot(expm(-1.j*H[0]*dt),bestpsi[j]))\n",
    "            trialu.append(bestu[j]+[0])\n",
    "            trialpsi.append(np.dot(expm(-1.j*H[1]*dt),bestpsi[j]))\n",
    "            trialu.append(bestu[j]+[1])\n",
    "        sortedtrials=np.argpartition(map(lambda x: energy(H[1],x),trialpsi),min(len(bestpsi)-1,K))\n",
    "        bestpsi = [trialpsi[k] for k in sortedtrials[:K]]\n",
    "        bestu   = [trialu[k] for k in sortedtrials[:K]]\n",
    "    \n",
    "    m = np.argmin(map(lambda x: energy(H[1],x), bestpsi))\n",
    "#    return bestu[m],energy(H[1],bestpsi[m])\n",
    "    return bestu[m],np.abs(bestpsi[m][0])\n",
    "def greedyK_openT(H,dt,psi0,K,Tmax,successP):\n",
    "    bestpsi = [psi0]\n",
    "#    bestu   = [[]] #all protocols will begin with -1\n",
    "    for i in range(Tmax):\n",
    "        trialpsi=[]\n",
    "#        trialu  =[]\n",
    "        for j in range(len(bestpsi)):\n",
    "            trialpsi.append(np.dot(expm(-1.j*H[0]*dt),bestpsi[j]))\n",
    "#            trialu.append(bestu[j]+[0])\n",
    "            trialpsi.append(np.dot(expm(-1.j*H[1]*dt),bestpsi[j]))\n",
    "#            trialu.append(bestu[j]+[1])\n",
    "        sortedtrials=np.argpartition(map(lambda x: energy(H[1],x),trialpsi),min(len(bestpsi)-1,K))\n",
    "        bestpsi = [trialpsi[k] for k in sortedtrials[:K]]\n",
    "#        bestu   = [trialu[k] for k in sortedtrials[:K]]\n",
    "        m = np.argmin(map(lambda x: energy(H[1],x), bestpsi))\n",
    "        if np.abs(bestpsi[m][0])**2>successP:\n",
    "            return i\n",
    "    return i\n",
    "\n",
    "def gradDesc(H,dt,psi0,u0,T): return 0\n",
    "def state0(n):\n",
    "    tN = 1./2.**(n/2.)\n",
    "    p   = np.zeros(n+1) # initialized probability vector in reduced basis\n",
    "    seed = 1.\n",
    "    for i in range(n+1):\n",
    "        p[i] = seed # recursively produce N-choose-j (see next line)\n",
    "        seed *= np.sqrt((n-i)/(i+1.))\n",
    "    return tN*p # duplicates probabilities for z0=0 and 1\n",
    "\n",
    "def spike(width,height,loc,w):\n",
    "    return height*int(2*abs(w-loc)<width)\n",
    "\n",
    "def greedyQAOA(H,psi0,T): # Performs QAOA for T iterations greedily: minimizing energy at each step\n",
    "    psi=psi0\n",
    "    angles=[]\n",
    "    E = [energy(H[1],psi0)]\n",
    "    def Etrial(x): \n",
    "        psi=psi0\n",
    "        for i in range(T):\n",
    "            psi = np.dot(expm(-1.j*H[0]*x[2*i]), np.dot(expm(-1.j*H[1]*x[2*i+1]),psi))\n",
    "#            psi = np.dot(expm(-1.j*H[0]*pi/4.), np.dot(expm(-1.j*H[1]*x[i]),psi))\n",
    "#        return np.abs(psi[0])\n",
    "        return energy(H[1],psi)\n",
    "    x0 = [pi/4,pi/2]*T#+2*(T-1)*[0]\n",
    "#    x0 = [pi/2]*T\n",
    "#    opt = minimize(Etrial, x0, method='nelder-mead', bounds=2*T*[(-pi/10.,2*pi)], options={'xtol': 1e-8, 'disp': True})\n",
    "#    opt = minimize(Etrial, x0, method='BFGS', options={'disp': True})\n",
    "    opt  = basinhopping(Etrial, x0, niter=3, T=1.0)\n",
    "    psiOpt = psi0\n",
    "    for i in range(T):\n",
    "        psiOpt = np.dot(expm(-1.j*H[0]*opt.x[2*i]), np.dot(expm(-1.j*H[1]*opt.x[2*i+1]),psi))\n",
    "#        psiOpt = np.dot(expm(-1.j*H[0]*pi/4), np.dot(expm(-1.j*H[1]*opt.x[i]),psi))\n",
    "\n",
    "    return opt.x, opt.fun, psiOpt\n",
    "\n",
    "#    for i in range(T):\n",
    "#        Etrial = lambda x: energy(H[1],np.dot(expm(-1.j*H[0]*x[0]), np.dot(expm(-1.j*H[1]*x[1]),psi)))\n",
    "#        opt = minimize(Etrial, [1.,1.], method='nelder-mead', bounds=[(0.,2*pi),(0,2*pi)], options={'xtol': 1e-8, 'disp': False})\n",
    "#        angles.append(opt.x)\n",
    "#        E.append(opt.fun)\n",
    "#        psi = np.dot(expm(-1.j*H[0]*opt.x[0]), np.dot(expm(-1.j*H[1]*opt.x[1]),psi))\n",
    "#    return angles, E"
   ]
  },
  {
   "cell_type": "code",
   "execution_count": 3,
   "metadata": {},
   "outputs": [
    {
     "data": {
      "text/plain": [
       "array([  0.        ,   1.        ,   2.        ,   3.        ,\n",
       "         4.        ,   5.        ,  11.47722558,  12.47722558,\n",
       "        13.47722558,   9.        ,  10.        ,  11.        ,\n",
       "        12.        ,  13.        ,  14.        ,  15.        ,\n",
       "        16.        ,  17.        ,  18.        ,  19.        ,\n",
       "        20.        ,  21.        ,  22.        ,  23.        ,\n",
       "        24.        ,  25.        ,  26.        ,  27.        ,\n",
       "        28.        ,  29.        ,  30.        ])"
      ]
     },
     "execution_count": 3,
     "metadata": {},
     "output_type": "execute_result"
    }
   ],
   "source": [
    "n     = 30\n",
    "alpha = 0.2\n",
    "beta  = 0.5\n",
    "W  = 2*n**alpha\n",
    "H  = n**beta\n",
    "LOC= n/4\n",
    "dt = 0.01\n",
    "psi0   = state0(n)\n",
    "H0 = n*np.identity(n+1)\n",
    "for i in range(n):\n",
    "    H0[i,i+1] = -np.sqrt((i+1)*(n-i))\n",
    "    H0[i+1,i] = -np.sqrt((i+1)*(n-i))\n",
    "\n",
    "H1 = np.diag(map(lambda x: x+spike(W,H,LOC,x),range(n+1))) #ramp with spike\n",
    "H = [H0,H1]\n",
    "np.diag(H1)"
   ]
  },
  {
   "cell_type": "code",
   "execution_count": 39,
   "metadata": {
    "collapsed": true
   },
   "outputs": [],
   "source": [
    "def spikeH(n,alpha,beta):\n",
    "    W  = 2*n**alpha\n",
    "    H  = n**beta\n",
    "    LOC= n/4\n",
    "    H0 = n*np.identity(n+1)\n",
    "    for i in range(n):\n",
    "        H0[i,i+1] = -np.sqrt((i+1)*(n-i))\n",
    "        H0[i+1,i] = -np.sqrt((i+1)*(n-i))\n",
    "    H1 = np.diag(map(lambda x: x+spike(W,H,LOC,x),range(n+1))) #ramp with spike\n",
    "    return [H0,H1]\n",
    "\n",
    "def cubicH(n):\n",
    "    H0 = n*np.identity(n+1)\n",
    "    for i in range(n):\n",
    "        H0[i,i+1] = -np.sqrt((i+1)*(n-i))\n",
    "        H0[i+1,i] = -np.sqrt((i+1)*(n-i))\n",
    "    H1 = np.diag(map(lambda x: 0.5+4./n**3*(x-n/2.)**3,range(n+1))) # cubic ramp\n",
    "    return [H0,H1]\n",
    "def quinticH(n):\n",
    "    H0 = n*np.identity(n+1)\n",
    "    for i in range(n):\n",
    "        H0[i,i+1] = -np.sqrt((i+1)*(n-i))\n",
    "        H0[i+1,i] = -np.sqrt((i+1)*(n-i))\n",
    "    H1 = np.diag(map(lambda x: 0.5+16./n**5*(x-n/2.)**5,range(n+1))) # cubic ramp\n",
    "    return [H0,H1]"
   ]
  },
  {
   "cell_type": "code",
   "execution_count": 20,
   "metadata": {},
   "outputs": [
    {
     "ename": "NameError",
     "evalue": "name 'runtime' is not defined",
     "output_type": "error",
     "traceback": [
      "\u001b[0;31m---------------------------------------------------------------------------\u001b[0m",
      "\u001b[0;31mNameError\u001b[0m                                 Traceback (most recent call last)",
      "\u001b[0;32m<ipython-input-20-9ee8690d1146>\u001b[0m in \u001b[0;36m<module>\u001b[0;34m()\u001b[0m\n\u001b[1;32m      2\u001b[0m     \u001b[0mpsi0\u001b[0m   \u001b[0;34m=\u001b[0m \u001b[0mstate0\u001b[0m\u001b[0;34m(\u001b[0m\u001b[0mn\u001b[0m\u001b[0;34m)\u001b[0m\u001b[0;34m\u001b[0m\u001b[0m\n\u001b[1;32m      3\u001b[0m     \u001b[0mH\u001b[0m \u001b[0;34m=\u001b[0m \u001b[0mspikeH\u001b[0m\u001b[0;34m(\u001b[0m\u001b[0mn\u001b[0m\u001b[0;34m,\u001b[0m\u001b[0;36m0.2\u001b[0m\u001b[0;34m,\u001b[0m\u001b[0;36m0.5\u001b[0m\u001b[0;34m)\u001b[0m\u001b[0;34m\u001b[0m\u001b[0m\n\u001b[0;32m----> 4\u001b[0;31m     \u001b[0mruntime\u001b[0m\u001b[0;34m.\u001b[0m\u001b[0mappend\u001b[0m\u001b[0;34m(\u001b[0m\u001b[0mgreedyK_openT\u001b[0m\u001b[0;34m(\u001b[0m\u001b[0mH\u001b[0m\u001b[0;34m,\u001b[0m\u001b[0mdt\u001b[0m\u001b[0;34m,\u001b[0m\u001b[0mpsi0\u001b[0m\u001b[0;34m,\u001b[0m\u001b[0;36m5\u001b[0m\u001b[0;34m,\u001b[0m\u001b[0;36m2000\u001b[0m\u001b[0;34m,\u001b[0m\u001b[0;36m0.001\u001b[0m\u001b[0;34m)\u001b[0m\u001b[0;34m)\u001b[0m\u001b[0;34m\u001b[0m\u001b[0m\n\u001b[0m",
      "\u001b[0;31mNameError\u001b[0m: name 'runtime' is not defined"
     ]
    }
   ],
   "source": [
    "for n in range(42,63,4):\n",
    "    psi0   = state0(n)     \n",
    "    H = spikeH(n,0.2,0.5)\n",
    "    runtime.append(greedyK_openT(H,dt,psi0,5,2000,0.001))"
   ]
  },
  {
   "cell_type": "code",
   "execution_count": 51,
   "metadata": {},
   "outputs": [
    {
     "data": {
      "image/png": "[encoded data removed]",
      "text/plain": [
       "<matplotlib.figure.Figure at 0x7f27183d5790>"
      ]
     },
     "metadata": {},
     "output_type": "display_data"
    }
   ],
   "source": [
    "plot(runtime);show()"
   ]
  },
  {
   "cell_type": "code",
   "execution_count": 55,
   "metadata": {},
   "outputs": [
    {
     "data": {
      "text/plain": [
       "1999"
      ]
     },
     "execution_count": 55,
     "metadata": {},
     "output_type": "execute_result"
    }
   ],
   "source": [
    "n=55\n",
    "H = spikeH(n,0.2,0.5)\n",
    "psi0   = state0(n)\n",
    "greedyK_openT(H,dt,psi0,20,2000,0.001)"
   ]
  },
  {
   "cell_type": "code",
   "execution_count": null,
   "metadata": {
    "collapsed": true
   },
   "outputs": [],
   "source": []
  },
  {
   "cell_type": "code",
   "execution_count": 10,
   "metadata": {
    "collapsed": true
   },
   "outputs": [],
   "source": []
  },
  {
   "cell_type": "code",
   "execution_count": 45,
   "metadata": {
    "scrolled": true
   },
   "outputs": [
    {
     "name": "stdout",
     "output_type": "stream",
     "text": [
      "[ 0.68279132  0.61939841  0.4897235   2.2947415 ] 0.33365253472 0.00882768866584\n",
      "[ 2.45638928  0.06781564  1.09346446  3.13879353] 0.331939568226 0.00657531864256\n",
      "[ 0.22602445  1.38060751  0.61669544  2.95361586] 0.326110488995 0.0374997413173\n",
      "[ 2.85123663  0.16779148  0.93606253  1.76770292] 0.346071786205 0.0418683363599\n",
      "[ 2.13280482  3.09750277  2.03815115  0.69692454] 0.319740155765 0.00081605489518\n",
      "[ 0.67685954  1.80757132  0.46768052  1.0376012 ] 0.330607802824 0.00358600808855\n",
      "[ 2.47020411  1.89648309  1.0948687   2.79171981] 0.331412074772 0.00377715648241\n",
      "[ 0.63315719  2.57736488  0.53424567  1.10895548] 0.340394255719 0.00982611288257\n",
      "[ 0.40245519  1.51755393  0.59591551  2.34237894] 0.350898327872 0.0256649967891\n",
      "[ 2.61570771  2.91927266  2.01872647  1.19197331] 0.311428649819 0.000938471379435\n",
      "[ 0.62840258  2.03372995  0.51684301  2.12503096] 0.33891775512 0.00585762182266\n",
      "[ 0.61615512  0.49110735  0.53038887  2.58844781] 0.338705661744 0.0069917974258\n",
      "[ 0.91454916  2.7821909   2.69605649  0.24179028] 0.333514376447 0.000938411198026\n",
      "[ 0.74478162  0.85208746  0.36843188  0.9132582 ] 0.368319355326 5.67255068798e-06\n",
      "[ 2.54563274  2.78078884  1.0865286   2.39601432] 0.367521241598 0.00211266105456\n",
      "[ 1.86636947  0.32513836  0.9532645   1.07461091] 0.332822132254 0.0285633984029\n",
      "[ 2.50551588  0.07755627  1.1027211   0.79084468] 0.330696576513 0.00110765699743\n",
      "[ 0.77042334  0.66259758  0.4913971   2.18505661] 0.343571888509 0.00191523907991\n",
      "[ 1.2017356   2.46441169  0.53860116  3.07898722] 0.345588976034 0.0068007165282\n",
      "[ 0.19558995  2.80418532  0.66774924  2.48148328] 0.347753716604 0.0373669345346\n"
     ]
    },
    {
     "data": {
      "image/png": "[encoded data removed]",
      "text/plain": [
       "<matplotlib.figure.Figure at 0x7f6c51061050>"
      ]
     },
     "metadata": {},
     "output_type": "display_data"
    }
   ],
   "source": [
    "beta = []\n",
    "gamma = []\n",
    "emin = []\n",
    "overlaps=[]\n",
    "for n in range(35,55,1):\n",
    "    psi0= state0(n)     \n",
    "    #H = spikeH(n, 0.0,0.0)\n",
    "    H = cubicH(n)\n",
    "    bg, E, psiOpt = greedyQAOA(H,psi0,2)\n",
    "    #beta.append(b)\n",
    "    #gamma.append(g)\n",
    "    emin.append(E)\n",
    "    print bg%pi, E, np.abs(psiOpt[0])**2\n",
    "    overlaps.append(np.abs(psiOpt[0])**2)\n",
    "    \n",
    "plot(overlaps); show()"
   ]
  },
  {
   "cell_type": "code",
   "execution_count": 12,
   "metadata": {},
   "outputs": [
    {
     "data": {
      "image/png": "[encoded data removed]",
      "text/plain": [
       "<matplotlib.figure.Figure at 0x7fce7c51b210>"
      ]
     },
     "metadata": {},
     "output_type": "display_data"
    },
    {
     "data": {
      "image/png": "[encoded data removed]",
      "text/plain": [
       "<matplotlib.figure.Figure at 0x7fce7a220ed0>"
      ]
     },
     "metadata": {},
     "output_type": "display_data"
    }
   ],
   "source": [
    "plot(beta);plot(gamma);show()\n",
    "plot(map(np.log,emin));show()"
   ]
  },
  {
   "cell_type": "code",
   "execution_count": 38,
   "metadata": {},
   "outputs": [
    {
     "data": {
      "text/plain": [
       "(5.6489393255350224e-11+0j)"
      ]
     },
     "execution_count": 38,
     "metadata": {},
     "output_type": "execute_result"
    }
   ],
   "source": [
    "energy(H[1],np.dot(expm(-1.j*H[0]*pi/4),np.dot(expm(-1.j*H[1]*pi/2.),psi0)))"
   ]
  },
  {
   "cell_type": "code",
   "execution_count": 18,
   "metadata": {},
   "outputs": [
    {
     "data": {
      "text/plain": [
       "array([ 3.03164193,  3.15582113,  3.13934729,  3.14139295,  3.14153223])"
      ]
     },
     "execution_count": 18,
     "metadata": {},
     "output_type": "execute_result"
    }
   ],
   "source": [
    "np.array(beta)*4"
   ]
  },
  {
   "cell_type": "code",
   "execution_count": 36,
   "metadata": {},
   "outputs": [
    {
     "data": {
      "text/plain": [
       "(5.6489393255350224e-11+0j)"
      ]
     },
     "execution_count": 36,
     "metadata": {},
     "output_type": "execute_result"
    }
   ],
   "source": [
    "psi0= state0(200)     \n",
    "H = spikeH(200,0.0,0.0)\n",
    "psi=psi0\n",
    "angles=[]\n",
    "E = [energy(H[1],psi0)]\n",
    "def Etrial(x): \n",
    "    psi=psi0\n",
    "    for i in range(1):\n",
    "        psi = np.dot(expm(-1.j*H[0]*x[2*i]), np.dot(expm(-1.j*H[1]*x[2*i+1]),psi))\n",
    "    return energy(H[1],psi)\n",
    "Etrial([pi/4,pi/2])"
   ]
  },
  {
   "cell_type": "code",
   "execution_count": 24,
   "metadata": {},
   "outputs": [
    {
     "data": {
      "text/plain": [
       "90"
      ]
     },
     "execution_count": 24,
     "metadata": {},
     "output_type": "execute_result"
    }
   ],
   "source": []
  },
  {
   "cell_type": "code",
   "execution_count": 114,
   "metadata": {},
   "outputs": [
    {
     "data": {
      "text/plain": [
       "2.4530354648617347"
      ]
     },
     "execution_count": 114,
     "metadata": {},
     "output_type": "execute_result"
    }
   ],
   "source": [
    "637.05475149%(pi)"
   ]
  },
  {
   "cell_type": "code",
   "execution_count": null,
   "metadata": {
    "collapsed": true
   },
   "outputs": [],
   "source": []
  }
 ],
 "metadata": {
  "kernelspec": {
   "display_name": "Python 2",
   "language": "python",
   "name": "python2"
  },
  "language_info": {
   "codemirror_mode": {
    "name": "ipython",
    "version": 2
   },
   "file_extension": ".py",
   "mimetype": "text/x-python",
   "name": "python",
   "nbconvert_exporter": "python",
   "pygments_lexer": "ipython2",
   "version": "2.7.15rc1"
  }
 },
 "nbformat": 4,
 "nbformat_minor": 2
}
