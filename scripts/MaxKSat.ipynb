{
 "cells": [
  {
   "cell_type": "code",
   "execution_count": 1,
   "metadata": {
    "collapsed": true
   },
   "outputs": [],
   "source": [
    "import numpy as np\n",
    "import numpy.random as nrm\n",
    "import random as rm\n",
    "from matplotlib.pyplot import *\n",
    "import time\n",
    "import itertools\n",
    "from scipy.linalg import expm\n",
    "from numpy import sqrt,pi,e,cos,sin,tan\n",
    "from scipy.optimize import minimize"
   ]
  },
  {
   "cell_type": "markdown",
   "metadata": {},
   "source": [
    "File input"
   ]
  },
  {
   "cell_type": "code",
   "execution_count": 25,
   "metadata": {},
   "outputs": [],
   "source": [
    "clauses = []\n",
    "f=open('/home/aniruddha/Documents/Projects/QuICS/AdOpt/scripts/VQE/3sat_n8_m50.dimacs','r') # Input file, cnf format\n",
    "while True:\n",
    "    line = f.readline()\n",
    "    if not line: break\n",
    "    spline = line.split()\n",
    "    if spline[0]=='c':\n",
    "        continue\n",
    "    elif spline[0]=='p':\n",
    "        N = int(spline[2])\n",
    "        M = int(spline[3])\n",
    "    else:\n",
    "        for c in spline[:-1]:\n",
    "            if abs(int(c))>N or int(c)==0:\n",
    "                print(\"Error: variable indices must be non-zero and less than %d\"%N)\n",
    "                break;\n",
    "        if spline[-1]!='0':\n",
    "            print(\"Error: clause descriptions must have a terminal 0\")\n",
    "            break;\n",
    "        clauses.append(map(int,spline[:-1]))\n",
    "if len(clauses)!=M: print(\"Error: Need %d clauses\"%M)\n",
    "f.close()"
   ]
  },
  {
   "cell_type": "markdown",
   "metadata": {},
   "source": [
    "Max sat function"
   ]
  },
  {
   "cell_type": "code",
   "execution_count": 26,
   "metadata": {
    "collapsed": true
   },
   "outputs": [],
   "source": [
    "sx = np.array([[0,1],[1,0]]) # A useful global definition\n",
    "sz = np.array([[1,0],[0,-1]])\n",
    "ii = np.identity(2)\n",
    "\n",
    "def gate(n,i,X): # apply gate X on i-th qubit out of n qubits\n",
    "    return np.kron(np.identity(2**(i-1)),np.kron(X,np.identity(2**(n-i))))\n",
    "\n",
    "def energy(H,psi): return np.vdot(psi,np.dot(H,psi))\n",
    "\n",
    "def clauseH(n,clause,signs):\n",
    "    a = np.array(n*[ii])\n",
    "    a[clause]=map(lambda x: 0.5*(ii+x*sz),signs) # creates an array with id on non-clause indices and a z-ish operator on\n",
    "    return reduce(np.kron,a)                     # the clause indices\n",
    "\n",
    "def maxksatH(n,clauses):\n",
    "    H0 = -reduce(lambda a,b: a+b,map(lambda i: gate(n,i+1,sx),range(n)))  # the diffusion operator\n",
    "    H1 = 0\n",
    "    for i in range(len(clauses)):\n",
    "        clause=map(lambda x: abs(x)-1,clauses[i]) # extract the zero-indexed clause number\n",
    "        signs=map(np.sign,clauses[i])\n",
    "        H1+= clauseH(n,clause,signs)\n",
    "    return [H0,H1]\n",
    "\n",
    "def maxksatEval(z,clauses):\n",
    "    H = len(clauses)\n",
    "    for i in range(len(clauses)):\n",
    "        clause=map(abs,clauses[i])\n",
    "        signs=map(np.sign,clauses[i])\n",
    "        p = 1\n",
    "        for j in range(len(clause)):\n",
    "            p = p*(0.5*(1+signs[j])-signs[j]*z[clause[j]-1])\n",
    "        H = H-p\n",
    "    return H\n",
    "\n",
    "def spikeH(n,alpha,beta):\n",
    "    W  = 2*n**alpha\n",
    "    H  = n**beta\n",
    "    LOC= n/4\n",
    "    H0 = n*np.identity(n+1)\n",
    "    for i in range(n):\n",
    "        H0[i,i+1] = -np.sqrt((i+1)*(n-i))\n",
    "        H0[i+1,i] = -np.sqrt((i+1)*(n-i))\n",
    "    H1 = np.diag(map(lambda x: x+spike(W,H,LOC,x),range(n+1))) #ramp with spike\n",
    "    return [H0,H1]\n",
    "\n",
    "def randmax2sat(N,M): # generate a random max-2-sat instance\n",
    "    clauses=[]\n",
    "    for i in range(M):\n",
    "        [c1,c2]=rm.sample(range(1,N+1),2)\n",
    "        clauses.append([(-1)**rm.randint(0,1)*c1,(-1)**rm.randint(0,1)*c2])\n",
    "    return clauses\n",
    "\n",
    "def state0(n):\n",
    "    return 1./2.**(n/2.)*np.ones(2**n)\n",
    "\n",
    "def QAOA(H,psi0,T): # Performs QAOA for T iterations non-greedily: minimizing energy over (2*pi)^(2p) dim. parameter landscape\n",
    "    psi=psi0\n",
    "    angles=[]\n",
    "    E = [energy(H[1],psi0)]\n",
    "    def Etrial(x): \n",
    "        psi=psi0\n",
    "        for i in range(T):\n",
    "            psi = np.dot(expm(-1.j*H[0]*x[2*i]), np.dot(expm(-1.j*H[1]*x[2*i+1]),psi))\n",
    "        return energy(H[1],psi)-M\n",
    "    x0 = [pi/4,pi/2]+2*(T-1)*[0]\n",
    "    opt = minimize(Etrial, x0, method='nelder-mead', bounds=2*T*[(-pi/10.,2*pi)], options={'xtol': 1e-8, 'disp': False})\n",
    "    return opt.x, opt.fun\n",
    "\n",
    "def greedyQAOA(H,psi0,T): # Performs QAOA for T iterations greedily: minimizing energy at each step\n",
    "    psi=psi0\n",
    "    angles=[]\n",
    "    E = [energy(H[1],psi0)]\n",
    "    def Etrial(x): \n",
    "        psi = np.dot(expm(-1.j*H[0]*x[0]), np.dot(expm(-1.j*H[1]*x[1]),psi0))\n",
    "        return energy(H[1],psi)-M\n",
    "    x0 = [pi/4,pi/2]\n",
    "    for i in range(T):\n",
    "        opt = minimize(Etrial, x0, method='nelder-mead', bounds=2*[(-pi/10.,2*pi)], options={'xtol': 1e-8, 'disp': False})\n",
    "        x0=opt.x\n",
    "        psi0 = np.dot(expm(-1.j*H[0]*opt.x[0]), np.dot(expm(-1.j*H[1]*opt.x[1]),psi0))\n",
    "    return opt.x, opt.fun"
   ]
  },
  {
   "cell_type": "markdown",
   "metadata": {},
   "source": [
    "Exhaustive search to find maximum satisfiability (WARNING: SCALES EXPONENTIALLY IN # OF BITS)"
   ]
  },
  {
   "cell_type": "markdown",
   "metadata": {},
   "source": [
    "Nbit = list(itertools.product([0,1],repeat=N))\n",
    "minE = M\n",
    "minz = []\n",
    "for z in Nbit:\n",
    "    zE = maxksat(z)\n",
    "    if minE >= zE:\n",
    "        minE = zE\n",
    "        minz = z\n",
    "print minz, minE  "
   ]
  },
  {
   "cell_type": "code",
   "execution_count": 163,
   "metadata": {},
   "outputs": [
    {
     "data": {
      "text/plain": [
       "array([ 2,  1, -1,  2])"
      ]
     },
     "execution_count": 163,
     "metadata": {},
     "output_type": "execute_result"
    }
   ],
   "source": [
    "c = [1,2]\n",
    "sign = [0,1]\n",
    "a = np.array([2,2,2,2])\n",
    "a[c]=map(lambda x: (-1)**x, sign)\n",
    "a"
   ]
  },
  {
   "cell_type": "code",
   "execution_count": 224,
   "metadata": {},
   "outputs": [
    {
     "name": "stdout",
     "output_type": "stream",
     "text": [
      "[ 43.  41.  45.  42.  46.  42.  44.  41.  43.  45.  47.  48.  44.  43.  44.\n",
      "  44.  47.  45.  48.  46.  45.  42.  44.  43.  42.  40.  47.  45.  41.  37.\n",
      "  44.  42.]\n",
      "Optimization terminated successfully.\n",
      "         Current function value: -46.076192\n",
      "         Iterations: 71\n",
      "         Function evaluations: 139\n"
     ]
    },
    {
     "data": {
      "text/plain": [
       "-46.076192303264506"
      ]
     },
     "execution_count": 224,
     "metadata": {},
     "output_type": "execute_result"
    }
   ],
   "source": [
    "#N=3\n",
    "#clauses = [[1,2],[-2,-1],[1,-2]]\n",
    "#M=len(clauses)\n",
    "print M-np.diag(maxksatH(N,clauses)[1])\n",
    "H = maxksatH(N,clauses)\n",
    "QAOA(H,state0(N),1)[1]"
   ]
  },
  {
   "cell_type": "code",
   "execution_count": 217,
   "metadata": {},
   "outputs": [
    {
     "data": {
      "text/plain": [
       "[8, 7, 1]"
      ]
     },
     "execution_count": 217,
     "metadata": {},
     "output_type": "execute_result"
    }
   ],
   "source": [
    "rm.randint(0,1)\n",
    "rm.sample(range(10),3)"
   ]
  },
  {
   "cell_type": "code",
   "execution_count": 275,
   "metadata": {
    "collapsed": true
   },
   "outputs": [],
   "source": [
    "# Now I will randomly generate max2sat instances for fixed variable # N and clause # M, and compute \n",
    "# the expected approximation ratio for for fixed QAOA depth p\n",
    "N=4\n",
    "M=10\n",
    "p=4\n",
    "trials=50\n",
    "approx=[]\n",
    "for i in range(trials):\n",
    "    clauses = randmax2sat(N,M)\n",
    "    H = maxksatH(N,clauses)\n",
    "    Cmax=max(M-np.diag(maxksatH(N,clauses)[1]))\n",
    "    C=-greedyQAOA(H,state0(N),p)[1]\n",
    "    approx.append(C/Cmax)"
   ]
  },
  {
   "cell_type": "code",
   "execution_count": 276,
   "metadata": {},
   "outputs": [
    {
     "data": {
      "text/plain": [
       "0.93599119078727777"
      ]
     },
     "execution_count": 276,
     "metadata": {},
     "output_type": "execute_result"
    }
   ],
   "source": [
    "np.mean(approx)"
   ]
  },
  {
   "cell_type": "code",
   "execution_count": 28,
   "metadata": {},
   "outputs": [
    {
     "name": "stdout",
     "output_type": "stream",
     "text": [
      "(5.22003407194+1.11022302463e-16j)\n"
     ]
    },
    {
     "data": {
      "text/plain": [
       "array([  5.,   5.,   4.,   6.,   5.,   5.,   6.,   8.,   6.,   5.,   4.,\n",
       "         5.,   6.,   5.,  10.,  11.,   4.,   4.,   3.,   5.,   4.,   4.,\n",
       "         5.,   7.,   8.,   6.,   6.,   6.,   7.,   5.,  11.,  11.,   5.,\n",
       "         7.,   2.,   5.,   6.,   8.,   5.,   8.,   9.,  10.,   5.,   7.,\n",
       "         8.,   9.,  10.,  12.,   6.,   7.,   4.,   6.,   7.,   8.,   7.,\n",
       "         9.,  14.,  13.,  11.,  11.,  12.,  11.,  15.,  15.,   8.,   8.,\n",
       "         5.,   7.,   5.,   4.,   5.,   6.,  10.,   7.,   6.,   5.,   8.,\n",
       "         4.,  11.,   9.,   7.,   8.,   4.,   7.,   4.,   4.,   4.,   6.,\n",
       "        10.,   7.,   6.,   5.,   7.,   3.,  10.,   8.,   7.,   9.,   3.,\n",
       "         6.,   5.,   6.,   4.,   6.,  13.,  12.,   8.,   8.,  10.,   8.,\n",
       "        12.,  11.,   6.,   8.,   3.,   6.,   4.,   5.,   4.,   6.,  14.,\n",
       "        12.,  10.,   9.,  10.,   7.,  13.,  11.,   5.,   4.,   6.,   6.,\n",
       "         5.,   6.,   6.,   8.,   4.,   3.,   4.,   4.,   3.,   4.,   7.,\n",
       "         9.,   3.,   3.,   3.,   4.,   3.,   5.,   3.,   6.,   5.,   4.,\n",
       "         4.,   4.,   3.,   4.,   6.,   8.,   3.,   3.,   3.,   3.,   4.,\n",
       "         6.,   4.,   6.,   4.,   4.,   3.,   3.,   2.,   4.,   5.,   7.,\n",
       "         4.,   4.,   4.,   4.,   5.,   7.,   5.,   7.,   9.,   8.,   8.,\n",
       "         7.,   6.,   7.,   9.,  10.,   8.,   7.,   7.,   7.,   6.,   6.,\n",
       "         6.,   7.,   7.,   4.,   5.,   3.,   5.,   3.,   8.,   7.,   7.,\n",
       "         8.,   5.,   7.,   5.,   7.,   4.,   7.,   7.,   5.,   4.,   3.,\n",
       "         4.,   3.,   6.,   6.,   5.,   5.,   4.,   4.,   4.,   5.,   4.,\n",
       "         5.,   7.,   5.,   5.,   3.,   4.,   3.,   7.,   6.,   5.,   6.,\n",
       "         4.,   5.,   4.,   6.,   4.,   6.,   9.,   7.,   7.,   5.,   5.,\n",
       "         4.,   8.,   7.])"
      ]
     },
     "execution_count": 28,
     "metadata": {},
     "output_type": "execute_result"
    }
   ],
   "source": [
    "psi=state0(N)\n",
    "H = maxksatH(N,clauses)\n",
    "T=3\n",
    "x = [0.5]*6\n",
    "for i in range(T):\n",
    "    psi = np.dot(expm(-1.j*H[0]*x[2*i]), np.dot(expm(-1.j*H[1]*x[2*i+1]),psi))\n",
    "print energy(H[1],psi)\n",
    "np.diag(H[1])"
   ]
  },
  {
   "cell_type": "code",
   "execution_count": 46,
   "metadata": {},
   "outputs": [
    {
     "data": {
      "image/png": "[encoded data removed]",
      "text/plain": [
       "<matplotlib.figure.Figure at 0x7f5c917aa610>"
      ]
     },
     "metadata": {},
     "output_type": "display_data"
    }
   ],
   "source": [
    "plot(np.exp(3-np.diag(H[1]))); show()"
   ]
  },
  {
   "cell_type": "code",
   "execution_count": 50,
   "metadata": {},
   "outputs": [
    {
     "data": {
      "text/plain": [
       "10.0"
      ]
     },
     "execution_count": 50,
     "metadata": {},
     "output_type": "execute_result"
    }
   ],
   "source": [
    "np.diag(H[1])[72]"
   ]
  },
  {
   "cell_type": "code",
   "execution_count": null,
   "metadata": {
    "collapsed": true
   },
   "outputs": [],
   "source": []
  }
 ],
 "metadata": {
  "kernelspec": {
   "display_name": "Python 2",
   "language": "python",
   "name": "python2"
  },
  "language_info": {
   "codemirror_mode": {
    "name": "ipython",
    "version": 2
   },
   "file_extension": ".py",
   "mimetype": "text/x-python",
   "name": "python",
   "nbconvert_exporter": "python",
   "pygments_lexer": "ipython2",
   "version": "2.7.15rc1"
  }
 },
 "nbformat": 4,
 "nbformat_minor": 2
}
