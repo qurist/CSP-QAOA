{
 "cells": [
  {
   "cell_type": "code",
   "execution_count": 6,
   "metadata": {
    "collapsed": true
   },
   "outputs": [],
   "source": [
    "import numpy as np\n",
    "from numpy import sqrt,pi,e,cos,sin,tan\n",
    "import matplotlib.pyplot as plt\n",
    "import math\n",
    "import random as rm\n",
    "from numpy.linalg import matrix_power\n",
    "from scipy.linalg import expm, eig\n",
    "from scipy.optimize import minimize, basinhopping\n",
    "from scipy.sparse import issparse,eye\n",
    "from scipy.sparse import linalg as slg\n",
    "import time"
   ]
  },
  {
   "cell_type": "code",
   "execution_count": 7,
   "metadata": {
    "collapsed": true
   },
   "outputs": [],
   "source": [
    "## Precompute some expressions\n",
    "def c1(J,gamma,i):\n",
    "    return np.prod(list(map(lambda x: cos(2*gamma*x)\\\n",
    "                            , J[i])))\n",
    "def c2plus(J, gamma, i,j):\n",
    "    Jplus = J[i]+J[j]\n",
    "    Jplus[i] = Jplus[j]=0\n",
    "    return np.prod(list(map(lambda x: cos(2*gamma*x)\\\n",
    "                            , Jplus)))\n",
    "\n",
    "def c2minus(J, gamma, i,j):\n",
    "    Jminus = J[i]-J[j]\n",
    "    Jminus[i] = Jminus[j]=0\n",
    "    return np.prod(list(map(lambda x: cos(2*gamma*x)\\\n",
    "                            , Jminus)))\n",
    "### Now, compute the expectation in state |gamma>\n",
    "def ergX(J, K, gamma, i):\n",
    "    return cos(2*gamma*K[i])*c1(J,gamma,i)\n",
    "def ergY(J, K, gamma, i):\n",
    "    return sin(2*gamma*K[i])*c1(J,gamma,i)\n",
    "def ergXX(J, K, gamma, i,j):\n",
    "    return 0.5*(cos(2*gamma*(K[i]+K[j]))*c2plus(J,gamma,i,j)\\\n",
    "               +cos(2*gamma*(K[i]-K[j]))*c2minus(J,gamma,i,j))\n",
    "def ergYY(J, K, gamma, i,j):\n",
    "    return 0.5*(cos(2*gamma*(K[i]-K[j]))*c2minus(J,gamma,i,j)\\\n",
    "               -cos(2*gamma*(K[i]+K[j]))*c2plus(J,gamma,i,j))\n",
    "def ergXY(J, K, gamma, i,j):\n",
    "    return 0.5*(sin(2*gamma*(K[i]+K[j]))*c2plus(J,gamma,i,j)\\\n",
    "               +sin(2*gamma*(K[i]-K[j]))*c2minus(J,gamma,i,j))\n",
    "def ergYZ(J, K, gamma, i,j):\n",
    "    return cos(2*gamma*K[i])*sin(2*gamma*J[i,j])*c1(J,gamma,i)\n",
    "def ergZX(J, K, gamma, i,j):\n",
    "    return sin(2*gamma*K[i])*sin(2*gamma*J[i,j])*c1(J,gamma,i)\n",
    "\n",
    "### Finally, compute expectation in state |beta, gamma>\n",
    "def qaoaX(J, K, beta, gamma, i): \n",
    "    return ergX(J, K, gamma, i)\n",
    "def qaoaY(J, K, beta, gamma, i):\n",
    "    return cos(2*beta)*ergY(J, K, gamma, i)\n",
    "def qaoaZ(J, K, beta, gamma, i):\n",
    "    return -sin(2*beta)*ergY(J, K, gamma, i)\n",
    "def qaoaXX(J, K, beta, gamma, i,j):\n",
    "    return ergXX(J, K, gamma, i,j)\n",
    "def qaoaYY(J, K, beta, gamma, i,j):\n",
    "    c = cos(2*beta)\n",
    "    s = sin(2*beta)\n",
    "    return c**2*ergYY(J, K, gamma, i,j)\\\n",
    "    +c*s*ergYZ(J, K, gamma, i,j)\\\n",
    "    +c*s*ergYZ(J, K, gamma, j,i)\n",
    "def qaoaZZ(J, K, beta, gamma, i,j):\n",
    "    c = cos(2*beta)\n",
    "    s = sin(2*beta)\n",
    "    return -c*s*ergYZ(J, K, gamma, i,j)\\\n",
    "    -c*s*ergYZ(J, K, gamma, j,i)\\\n",
    "    +s**2*ergYY(J, K, gamma, i,j)\n",
    "def qaoaXY(J, K, beta, gamma, i,j):\n",
    "    return cos(2*beta)*ergXY(J, K, gamma, i,j)\\\n",
    "          +sin(2*beta)*ergZX(J, K, gamma, j,i)  \n",
    "def qaoaYZ(J, K, beta, gamma, i,j):\n",
    "    c = cos(2*beta)\n",
    "    s = sin(2*beta)\n",
    "    return c**2*ergYZ(J, K, gamma, i,j)\\\n",
    "    -c*s*ergYY(J, K, gamma, i,j) \\\n",
    "    -s**2*ergYZ(J, K, gamma, j,i)\n",
    "def qaoaZX(J, K, beta, gamma, i,j):\n",
    "    return cos(2*beta)*ergZX(J, K, gamma, i,j)\\\n",
    "          -sin(2*beta)*ergXY(J, K, gamma, j,i)"
   ]
  },
  {
   "cell_type": "code",
   "execution_count": 86,
   "metadata": {},
   "outputs": [
    {
     "data": {
      "text/plain": [
       "0.7427001194246778"
      ]
     },
     "execution_count": 86,
     "metadata": {},
     "output_type": "execute_result"
    }
   ],
   "source": [
    "J = np.array([[0,1,1],[1,0,2],[1,2,0]])\n",
    "K = np.zeros(3)\n",
    "qaoaXX(J,K,1,0.2,0,0)"
   ]
  },
  {
   "cell_type": "code",
   "execution_count": 331,
   "metadata": {
    "collapsed": true
   },
   "outputs": [],
   "source": [
    "# Check using ramp, C(z) = 1/2*sum_i[(1-Zi)], and bush, C(z) = 1/4*sum_i[(1+Z0)*(1-Zi)] + 1/2*(1-Z0)\n",
    "n = 10\n",
    "J = 0.25*np.array([[0]+[-1]*n] + [[-1]+[0]*n]*n)\n",
    "K = 0.25*np.array([n-2]+[-1]*n)\n",
    "L = (n+2)/4 # constant term\n",
    "\n",
    "beta = pi/4\n",
    "gamma = pi/2\n",
    "E = (n-2)/4*qaoaZ(J,K,beta,gamma,0) # Energy expectation\n",
    "for i in range(1,n+1): E+= -0.25*qaoaZ(J,K,beta,gamma, i)\n",
    "for i in range(1,n+1): E+= -0.25*qaoaZZ(J,K,beta,gamma,0,i)"
   ]
  },
  {
   "cell_type": "code",
   "execution_count": 332,
   "metadata": {},
   "outputs": [
    {
     "data": {
      "text/plain": [
       "1.75"
      ]
     },
     "execution_count": 332,
     "metadata": {},
     "output_type": "execute_result"
    }
   ],
   "source": [
    "E + L"
   ]
  },
  {
   "cell_type": "code",
   "execution_count": 464,
   "metadata": {
    "collapsed": true
   },
   "outputs": [],
   "source": [
    "## Bell inequality violation!\n",
    "\n",
    "# For reference:\n",
    "#c = np.cos(theta)\n",
    "#s = np.sin(theta)\n",
    "#S0  = Sz\n",
    "#S00 = Sz@Sz - n*I\n",
    "#S01 = c*S00 + s*(Sz@Sx - 1.0j*Sy)\n",
    "#S11 = c**2*S00 + s**2*(Sx@Sx - n*I) + s*c*(Sz@Sx + Sx@Sz)\n",
    "\n",
    "def Szx(J,K,beta, gamma):\n",
    "    n=len(K)\n",
    "    E=0\n",
    "    for i in range(n): \n",
    "        for j in range(i+1,n):\n",
    "            E+= qaoaZX(J,K,beta,gamma,i,j)\n",
    "            E+= qaoaZX(J,K,beta,gamma,j,i)\n",
    "    return E\n",
    "def Sxx(J,K,beta, gamma):\n",
    "    n=len(K)\n",
    "    E=0\n",
    "    for i in range(n): \n",
    "        for j in range(i+1,n):\n",
    "            E+= qaoaXX(J,K,beta,gamma,i,j)\n",
    "    return 2*E\n",
    "\n",
    "def S0(J,K, beta, gamma):\n",
    "    n=len(K)\n",
    "    E=0\n",
    "    for i in range(n): E+= qaoaZ(J,K,beta,gamma,i)\n",
    "    return E\n",
    "\n",
    "def Sx(J,K, beta, gamma):\n",
    "    n=len(K)\n",
    "    E=0\n",
    "    for i in range(n): E+= qaoaX(J,K,beta,gamma,i)\n",
    "    return E\n",
    "\n",
    "## The main operators\n",
    "def S1(J,K, beta, gamma, theta):\n",
    "    return cos(theta)*S0(J,K,beta, gamma) + sin(theta)*Sx(J,K,beta,gamma)\n",
    "\n",
    "def S00(J,K,beta,gamma):\n",
    "    n=len(K)\n",
    "    E=0\n",
    "    for i in range(n): \n",
    "        for j in range(i+1,n):\n",
    "            E+= qaoaZZ(J,K,beta,gamma,i,j)\n",
    "    return 2*E\n",
    "\n",
    "def S01(J,K,beta, gamma, theta): \n",
    "    return cos(theta)*S00(J,K,beta,gamma) + sin(theta)*Szx(J,K,beta,gamma)\n",
    "def S11(J,K,beta,gamma,theta):\n",
    "    c = cos(theta)\n",
    "    s = sin(theta)\n",
    "    return c**2*S00(J,K,beta,gamma) + s**2*Sxx(J,K,beta,gamma) + 2*s*c*Szx(J,K,beta,gamma)\n",
    "\n",
    "# H_B = 1/(2*n)*(-2*S0 + 0.5*S00 - S01 + 0.5*S11) + I\n",
    "def bellV(J,K,beta,gamma,theta):\n",
    "    n = len(K)\n",
    "    Eb = -S0(J,K,beta,gamma) + 0.25*S00(J,K,beta,gamma) - 0.5*S01(J,K,beta,gamma,theta)\\\n",
    "    + 0.25*S11(J,K,beta,gamma,theta)\n",
    "    return Eb/n + 1\n",
    "\n",
    "# Bell inequality generator\n",
    "def bellGen(J,K,beta,gamma,theta, p):\n",
    "    n = len(K)\n",
    "    Eb = p[0]*S0(J,K,beta,gamma) + p[1]*S1(J,K,beta,gamma, theta)\\\n",
    "    + 0.5*p[2]*S00(J,K,beta,gamma) + p[3]*S01(J,K,beta,gamma,theta)\\\n",
    "    + 0.5*p[4]*S11(J,K,beta,gamma,theta) + p[5]\n",
    "    return Eb\n",
    "    "
   ]
  },
  {
   "cell_type": "code",
   "execution_count": 348,
   "metadata": {
    "collapsed": true,
    "scrolled": true
   },
   "outputs": [],
   "source": [
    "def lr(n, J0, alpha):\n",
    "    J = np.zeros((n,n))\n",
    "    for i in range(n):\n",
    "        for j in range(i+1,n):\n",
    "            J[i,j]= J0/(abs(i-j))**alpha\n",
    "            J[j,i]= J0/(abs(i-j))**alpha\n",
    "    return J\n",
    "\n",
    "def lrp(n, J0, alpha):\n",
    "    J = np.zeros((n,n))\n",
    "    for i in range(n):\n",
    "        for j in range(i+1,n):\n",
    "            d = min(abs(i-j),n-abs(i-j))\n",
    "            J[i,j]= J0/d**alpha\n",
    "            J[j,i]= J0/d**alpha\n",
    "    return J\n",
    "\n",
    "\n",
    "n=20\n",
    "J = lrp(n,1.0,0.5)\n",
    "#for i in range(n): J[i,i] = 0\n",
    "K = 0.7*np.ones(n)\n",
    "beta  = 2\n",
    "gamma = 0.8\n",
    "theta = 2*pi/3\n",
    "fopt = lambda a: bellV(J,K, a[0], a[1], theta)\n",
    "opt = minimize(fopt, [1,5], method='BFGS')\n",
    "#opt = basinhopping(fopt, [1,1], niter=20, T=0.5)"
   ]
  },
  {
   "cell_type": "code",
   "execution_count": 298,
   "metadata": {
    "collapsed": true
   },
   "outputs": [],
   "source": [
    "bell = [[bellV(J,K, beta,gamma, theta) for beta in np.arange(-2,2,0.2)] for gamma in np.arange(0,4,0.2)]"
   ]
  },
  {
   "cell_type": "code",
   "execution_count": 299,
   "metadata": {
    "scrolled": true
   },
   "outputs": [
    {
     "data": {
      "text/plain": [
       "<matplotlib.colorbar.Colorbar at 0x7fddb53e2908>"
      ]
     },
     "execution_count": 299,
     "metadata": {},
     "output_type": "execute_result"
    },
    {
     "data": {
      "image/png": "[encoded data removed]",
      "text/plain": [
       "<Figure size 432x288 with 2 Axes>"
      ]
     },
     "metadata": {
      "needs_background": "light"
     },
     "output_type": "display_data"
    }
   ],
   "source": [
    "plt.imshow(bell); plt.colorbar()"
   ]
  },
  {
   "cell_type": "code",
   "execution_count": 349,
   "metadata": {},
   "outputs": [
    {
     "data": {
      "text/plain": [
       "0.9817331169338186"
      ]
     },
     "execution_count": 349,
     "metadata": {},
     "output_type": "execute_result"
    }
   ],
   "source": [
    "opt.fun"
   ]
  },
  {
   "cell_type": "code",
   "execution_count": 350,
   "metadata": {},
   "outputs": [
    {
     "data": {
      "text/plain": [
       "array([1.49808177, 5.70028564])"
      ]
     },
     "execution_count": 350,
     "metadata": {},
     "output_type": "execute_result"
    }
   ],
   "source": [
    "opt.x"
   ]
  },
  {
   "cell_type": "code",
   "execution_count": 605,
   "metadata": {},
   "outputs": [
    {
     "data": {
      "image/png": "[encoded data removed]",
      "text/plain": [
       "<Figure size 432x288 with 2 Axes>"
      ]
     },
     "metadata": {
      "needs_background": "light"
     },
     "output_type": "display_data"
    }
   ],
   "source": [
    "n=13\n",
    "J = lr(n,1.0,2.5)\n",
    "#for i in range(n): J[i,i] = 0\n",
    "K = 0.0*np.ones(n)\n",
    "a = n*(n-1)*(np.ceil(n/2)-n/2)\n",
    "b = a/n\n",
    "c = n*(n-1)/2\n",
    "d = n/2\n",
    "ep = -1\n",
    "bound = 0.5*n*(n-1)*np.ceil((n+2)/2)\n",
    "p = [a,b,c,d,ep,bound]\n",
    "\n",
    "beta =pi/4\n",
    "gamma = 0\n",
    "theta = pi/5\n",
    "#bellGen(J,K,0.4,1.25,theta, p)/bound\n",
    "plt.imshow([[bellGen(J,K, beta,gamma, theta, p) for beta in np.arange(0.1,0.6,0.05)] for gamma in np.arange(1.0,1.5,0.05)]); \n",
    "plt.colorbar(); plt.show()"
   ]
  },
  {
   "cell_type": "code",
   "execution_count": 561,
   "metadata": {},
   "outputs": [
    {
     "data": {
      "text/plain": [
       "-0.11107653724063599"
      ]
     },
     "execution_count": 561,
     "metadata": {},
     "output_type": "execute_result"
    }
   ],
   "source": [
    "bellGen(J,K, 0.41, 1.3, pi/5, p)/bound"
   ]
  },
  {
   "cell_type": "code",
   "execution_count": null,
   "metadata": {
    "collapsed": true
   },
   "outputs": [],
   "source": []
  },
  {
   "cell_type": "code",
   "execution_count": 531,
   "metadata": {
    "collapsed": true
   },
   "outputs": [],
   "source": [
    "n=10\n",
    "a = n*(n-1)*(np.ceil(n/2)-n/2)\n",
    "b = a/n\n",
    "c = n*(n-1)/2\n",
    "d = n/2\n",
    "ep = -1\n",
    "bound = 0.5*n*(n-1)*np.ceil((n+2)/2)\n",
    "p = [a,b,c,d,ep,bound]\n",
    "theta = pi/5\n",
    "viol=[]\n",
    "angles=[]\n",
    "for alpha in np.arange(2,4,0.2):\n",
    "    J = lrp(n,1.0,alpha)\n",
    "    fopt = lambda a: bellGen(J,K,a[0],a[1],theta,p)\n",
    "    K = 0.0*np.ones(n)\n",
    "    opt = minimize(fopt, [0.4,1.3], method='BFGS')\n",
    "    viol.append(opt.fun)\n",
    "    angles.append(opt.x)"
   ]
  },
  {
   "cell_type": "code",
   "execution_count": 532,
   "metadata": {},
   "outputs": [
    {
     "data": {
      "image/png": "[encoded data removed]",
      "text/plain": [
       "<Figure size 432x288 with 1 Axes>"
      ]
     },
     "metadata": {
      "needs_background": "light"
     },
     "output_type": "display_data"
    }
   ],
   "source": [
    "plt.plot(np.arange(2,4,0.2),viol/bound);plt.show()"
   ]
  },
  {
   "cell_type": "code",
   "execution_count": 498,
   "metadata": {},
   "outputs": [
    {
     "data": {
      "text/plain": [
       "[array([0.26167156, 1.11817009]),\n",
       " array([0.37021072, 1.18574617]),\n",
       " array([0.39123233, 1.22906735]),\n",
       " array([0.4164183 , 1.26760461]),\n",
       " array([0.43091423, 1.29893222]),\n",
       " array([0.43491145, 1.31974492]),\n",
       " array([0.43083811, 1.33098838]),\n",
       " array([0.42116215, 1.33483852]),\n",
       " array([0.40828053, 1.33357745]),\n",
       " array([0.39440602, 1.32932744])]"
      ]
     },
     "execution_count": 498,
     "metadata": {},
     "output_type": "execute_result"
    }
   ],
   "source": [
    "angles15"
   ]
  },
  {
   "cell_type": "markdown",
   "metadata": {
    "collapsed": true
   },
   "source": [
    "# A more general formula: Any k-body Pauli expectation"
   ]
  },
  {
   "cell_type": "code",
   "execution_count": 9,
   "metadata": {},
   "outputs": [
    {
     "data": {
      "text/plain": [
       "array([-1,  1, -1,  1])"
      ]
     },
     "execution_count": 9,
     "metadata": {},
     "output_type": "execute_result"
    }
   ],
   "source": [
    "1- 2*np.array(list(map(int,bin(10)[2:])))"
   ]
  },
  {
   "cell_type": "code",
   "execution_count": 15,
   "metadata": {
    "collapsed": true
   },
   "outputs": [],
   "source": [
    "\n",
    "def trig(J,K, gamma, inds, s):\n",
    "    c1 = c2 = 1\n",
    "    rs = np.concatenate((inds[0],inds[1]))\n",
    "    for l in inds[3]: \n",
    "        c1*= np.cos(2*gamma*np.dot(s,J[rs, l]))\n",
    "    for t in inds[2]:\n",
    "        c2*= np.sin(2*gamma*np.dot(s,J[rs, t]))\n",
    "    return c1*c2\n",
    "def phase(J,K,gamma, inds, s):\n",
    "    rs = np.concatenate((inds[0],inds[1]))\n",
    "    ipart = 1.0j**(len(inds[1])-len(inds[2]))\n",
    "    epart = e^(-2*1.0j*gamma*np.dot(s,K[rs]))\n",
    "    spart = np.prod(s)\n",
    "    return ipart*epart*spart\n",
    "def adder(J,K,gamma, inds, s):\n",
    "    answer = 0\n",
    "    lrs = len(inds[0])+len(inds[1])\n",
    "    for i in range(1<<lrs):\n",
    "        s = 1- 2*np.array(list(map(int,bin(i)[2:])))\n",
    "        answer+= phase(J,K,gamma,inds,s)*trig(J,K,gamma,inds,s)\n",
    "    return answer"
   ]
  },
  {
   "cell_type": "code",
   "execution_count": 14,
   "metadata": {},
   "outputs": [
    {
     "data": {
      "text/plain": [
       "array([1, 2])"
      ]
     },
     "execution_count": 14,
     "metadata": {},
     "output_type": "execute_result"
    }
   ],
   "source": [
    "A = np.array([[1,1],[2,2]])\n",
    "A[np.array([0,1]),1]"
   ]
  },
  {
   "cell_type": "code",
   "execution_count": null,
   "metadata": {
    "collapsed": true
   },
   "outputs": [],
   "source": []
  }
 ],
 "metadata": {
  "kernelspec": {
   "display_name": "Python 3",
   "language": "python",
   "name": "python3"
  },
  "language_info": {
   "codemirror_mode": {
    "name": "ipython",
    "version": 3
   },
   "file_extension": ".py",
   "mimetype": "text/x-python",
   "name": "python",
   "nbconvert_exporter": "python",
   "pygments_lexer": "ipython3",
   "version": "3.6.5"
  }
 },
 "nbformat": 4,
 "nbformat_minor": 2
}
