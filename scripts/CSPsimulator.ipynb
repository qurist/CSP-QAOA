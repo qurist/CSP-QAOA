{
 "cells": [
  {
   "cell_type": "code",
   "execution_count": 54,
   "metadata": {
    "collapsed": true
   },
   "outputs": [],
   "source": [
    "import numpy as np\n",
    "import numpy.random as nrm\n",
    "import random as rm\n",
    "from matplotlib import pyplot as plt\n",
    "import time\n",
    "import itertools\n",
    "from scipy.linalg import expm"
   ]
  },
  {
   "cell_type": "code",
   "execution_count": 13,
   "metadata": {
    "collapsed": true
   },
   "outputs": [],
   "source": []
  },
  {
   "cell_type": "code",
   "execution_count": 352,
   "metadata": {
    "collapsed": true
   },
   "outputs": [],
   "source": [
    "n = 5     # Number of qubits \n",
    "M = 10    # Number of clauses\n",
    "T = 100   # Number of time steps\n",
    "dt= 0.05  # Time step size\n",
    "u = nrm.randint(2,size=T)\n",
    "\n",
    "sx = np.array([[0,1],[1,0]])\n",
    "H0 = -reduce(lambda a,b: a+b,map(lambda i: gate(n,i+1,sx),range(n)))  # the diffusion operator\n",
    "H1 = np.diag(nrm.randint(10,size=2**n)) #np.diag([-1]+[0]*(2**n-3)+[0,0])#                              # placeholder for max2sat instance\n",
    "H = [H0,H1]\n",
    "psi0   = 1/np.sqrt(2.**n)*np.ones(2**n)"
   ]
  },
  {
   "cell_type": "code",
   "execution_count": 60,
   "metadata": {},
   "outputs": [
    {
     "data": {
      "text/plain": [
       "(3.6186510408013879-1.1102230246251565e-16j)"
      ]
     },
     "execution_count": 60,
     "metadata": {},
     "output_type": "execute_result"
    }
   ],
   "source": [
    "psi = psi0\n",
    "for i in range(T):  # ASSUMPTION: u only takes bang-bang values: 0 or 1\n",
    "    psi = np.dot(expm(-1.j*H[u[i]]*dt),psi)\n",
    "    np.vdot(psi,np.dot(H1,psi))"
   ]
  },
  {
   "cell_type": "code",
   "execution_count": 61,
   "metadata": {},
   "outputs": [
    {
     "data": {
      "text/plain": [
       "array([[0, 0, 0, ..., 0, 0, 0],\n",
       "       [0, 0, 0, ..., 0, 0, 0],\n",
       "       [0, 0, 0, ..., 0, 0, 0],\n",
       "       ..., \n",
       "       [0, 0, 0, ..., 8, 0, 0],\n",
       "       [0, 0, 0, ..., 0, 4, 0],\n",
       "       [0, 0, 0, ..., 0, 0, 7]])"
      ]
     },
     "execution_count": 61,
     "metadata": {},
     "output_type": "execute_result"
    }
   ],
   "source": []
  },
  {
   "cell_type": "code",
   "execution_count": 144,
   "metadata": {
    "collapsed": true
   },
   "outputs": [],
   "source": [
    "def gate(n,i,X): # apply gate X on i-th qubit out of n qubits\n",
    "    return np.kron(np.identity(2**(i-1)),np.kron(X,np.identity(2**(n-i))))\n",
    "\n",
    "def CSPsim(H,u,dt,psi0): # Exact simulation of a H(u) on initial state psi0\n",
    "    psi = psi0\n",
    "    for i in range(len(u)):  # ASSUMPTION: u only takes bang-bang values: 0 or 1\n",
    "        psi = np.dot(expm(-1.j*H[u[i]]*dt),psi)\n",
    "    np.vdot(psi,np.dot(H1,psi))\n",
    "    return psi\n",
    "\n",
    "def energy(H,psi): return np.vdot(psi,np.dot(H,psi))\n",
    "\n",
    "def greedyK(H,dt,psi0,K,T):\n",
    "    bestpsi = [psi0]\n",
    "    bestu   = [[]] #all protocols will begin with -1\n",
    "    for i in range(T):\n",
    "        trialpsi=[]\n",
    "        trialu  =[]\n",
    "        for j in range(len(bestpsi)):\n",
    "            trialpsi.append(np.dot(expm(-1.j*H[0]*dt),bestpsi[j]))\n",
    "            trialu.append(bestu[j]+[0])\n",
    "            trialpsi.append(np.dot(expm(-1.j*H[1]*dt),bestpsi[j]))\n",
    "            trialu.append(bestu[j]+[1])\n",
    "        sortedtrials=np.argpartition(map(lambda x: energy(H[1],x),trialpsi),min(len(bestpsi)-1,K))\n",
    "        bestpsi = [trialpsi[k] for k in sortedtrials[:K]]\n",
    "        bestu   = [trialu[k] for k in sortedtrials[:K]]\n",
    "    m = np.argmin(map(lambda x: energy(H[1],x), bestpsi))\n",
    "    return bestu[m],energy(H[1],bestpsi[m])\n",
    "def gradDesc(H,dt,psi0,u0,T): return 0"
   ]
  },
  {
   "cell_type": "code",
   "execution_count": 247,
   "metadata": {
    "collapsed": true
   },
   "outputs": [],
   "source": [
    "a = [greedyK(H,dt,psi0,1+i,20)[1] for i in range(10)]"
   ]
  },
  {
   "cell_type": "code",
   "execution_count": 354,
   "metadata": {},
   "outputs": [
    {
     "data": {
      "image/png": "[encoded data removed]",
      "text/plain": [
       "<matplotlib.figure.Figure at 0x7f4074814f50>"
      ]
     },
     "metadata": {},
     "output_type": "display_data"
    }
   ],
   "source": [
    "plt.plot(a);plt.show()"
   ]
  },
  {
   "cell_type": "code",
   "execution_count": 248,
   "metadata": {},
   "outputs": [
    {
     "data": {
      "image/png": "[encoded data removed]",
      "text/plain": [
       "<matplotlib.figure.Figure at 0x7f407475ee10>"
      ]
     },
     "metadata": {},
     "output_type": "display_data"
    }
   ],
   "source": [
    "uopt,Eopt=greedyK(H,dt,psi0,40,200)"
   ]
  },
  {
   "cell_type": "code",
   "execution_count": 348,
   "metadata": {},
   "outputs": [
    {
     "data": {
      "image/png": "[encoded data removed]",
      "text/plain": [
       "<matplotlib.figure.Figure at 0x7f4074883090>"
      ]
     },
     "metadata": {},
     "output_type": "display_data"
    }
   ],
   "source": [
    "plt.plot(uopt);plt.show()"
   ]
  },
  {
   "cell_type": "code",
   "execution_count": 349,
   "metadata": {},
   "outputs": [
    {
     "data": {
      "text/plain": [
       "(1.0599039987356023+0j)"
      ]
     },
     "execution_count": 349,
     "metadata": {},
     "output_type": "execute_result"
    }
   ],
   "source": [
    "Eopt"
   ]
  },
  {
   "cell_type": "code",
   "execution_count": 357,
   "metadata": {},
   "outputs": [
    {
     "data": {
      "text/plain": [
       "array([0, 0, 1, 2, 3, 3, 3, 3, 3, 3, 3, 4, 4, 4, 5, 5, 5, 6, 6, 6, 7, 7, 8,\n",
       "       8, 8, 8, 8, 9, 9, 9, 9, 9])"
      ]
     },
     "execution_count": 357,
     "metadata": {},
     "output_type": "execute_result"
    }
   ],
   "source": [
    "np.sort(np.diag(H[1]))"
   ]
  },
  {
   "cell_type": "code",
   "execution_count": 362,
   "metadata": {},
   "outputs": [
    {
     "name": "stdout",
     "output_type": "stream",
     "text": [
      "(30.8088233061-2.77555756156e-17j) (29.7655404057-1.11022302463e-16j) (29.2162028986+2.08166817117e-16j)\n"
     ]
    }
   ],
   "source": [
    "a1=a2=a0=0\n",
    "for k in range(10):\n",
    "    ansatz0 = nrm.randint(2,size=20)\n",
    "    ansatz1=[]\n",
    "    ansatz2=[]\n",
    "    for i in range(20):\n",
    "        ansatz1.append(int(rm.random()<(1+0.01*i)/2))\n",
    "        ansatz2.append(int(rm.random()<(1+(0.01*i)**2)/2))\n",
    "    a0+=energy(H[1],CSPsim(H,ansatz0,dt,psi0)) \n",
    "    a1+=energy(H[1],CSPsim(H,ansatz1,dt,psi0))\n",
    "    a2+=energy(H[1],CSPsim(H,ansatz2,dt,psi0))\n",
    "print a0,a1,a2"
   ]
  },
  {
   "cell_type": "code",
   "execution_count": null,
   "metadata": {
    "collapsed": true
   },
   "outputs": [],
   "source": []
  },
  {
   "cell_type": "code",
   "execution_count": null,
   "metadata": {
    "collapsed": true
   },
   "outputs": [],
   "source": []
  }
 ],
 "metadata": {
  "kernelspec": {
   "display_name": "Python 2",
   "language": "python",
   "name": "python2"
  },
  "language_info": {
   "codemirror_mode": {
    "name": "ipython",
    "version": 2
   },
   "file_extension": ".py",
   "mimetype": "text/x-python",
   "name": "python",
   "nbconvert_exporter": "python",
   "pygments_lexer": "ipython2",
   "version": "2.7.15rc1"
  }
 },
 "nbformat": 4,
 "nbformat_minor": 2
}
